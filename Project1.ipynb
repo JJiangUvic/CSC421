{
 "cells": [
  {
   "cell_type": "markdown",
   "id": "981b42cc",
   "metadata": {},
   "source": [
    "# Mini-Project 1 \n",
    "## Traveling salesman problem using Minimum-Spanning Tree heuristic \n",
    "## George Tzanetakeis\n",
    "## CSC421\n",
    "## Jiazhuo Jiang\n",
    "## V00892165\n",
    "\n",
    "This project is based on material from Chapter 3 Solving Problems by Searching. You will need to review that material on your own. \n",
    "\n",
    "The traveling salesperson problem (TSP) can be formulated as a search problem and A* search can be used  with the minimum-spanning-tree (MST) heuristic. This heuristic estimates the cost of completing a tour, given that a partial tour has already been constructed. The MST cost of a set of cities is the smallest sum of the link costs of any tree that connects all the cities.\n",
    "\n",
    "1. Write a problem generator and visualizer \n",
    "for instances of the TSP problem where cities are represented by random points in the unit square (6-10 cities are recommended) **(Basic - 2 points)**\n",
    "2. Solve the path problem of visiting all cities using the two main uninformed search strategies (BFS and DFS) and display your solution as a path between the cities **(Basic - 2 points)**\n",
    "3. Show and describe how the MST heuristic can be derived from a relaxed version of the TSP **(Expected - 2 points)**\n",
    "4. Compare the average time (total number of nodes generated) and space (largest size of frontier) complexity for BFS and DFS when running your search algorithm. **(Expected - 2 points)**\n",
    "4. Find an efficient algorithm in the literature for constructing the MST, and use it with A* graph search to solve instances of the TSP. **(Advanced - 2 points)**\n"
   ]
  },
  {
   "cell_type": "code",
   "execution_count": 1,
   "id": "3e7e0668",
   "metadata": {},
   "outputs": [],
   "source": [
    "import numpy as np\n",
    "import matplotlib.pyplot as plt\n",
    "import time"
   ]
  },
  {
   "cell_type": "markdown",
   "id": "f2b39aa1",
   "metadata": {},
   "source": [
    "#1"
   ]
  },
  {
   "cell_type": "code",
   "execution_count": 4,
   "id": "c5683237",
   "metadata": {},
   "outputs": [
    {
     "name": "stdout",
     "output_type": "stream",
     "text": [
      "City number(6-10)：10\n",
      "Scale：100\n",
      "((73.0, 81.0), (84.0, 60.0), (70.0, 54.0), (17.0, 59.0), (76.0, 83.0), (23.0, 81.0), (52.0, 72.0), (62.0, 6.0), (28.0, 69.0), (99.0, 25.0))\n",
      "[[        inf 23.70653918 27.16615541 60.16643583  3.60555128 50.\n",
      "  22.84731932 75.80237463 46.57252409 61.74139616]\n",
      " [23.70653918         inf 15.23154621 67.00746227 24.35159132 64.51356447\n",
      "  34.17601498 58.30951895 56.71860365 38.07886553]\n",
      " [27.16615541 15.23154621         inf 53.23532662 29.61418579 54.20332093\n",
      "  25.45584412 48.66210024 44.59820624 41.01219331]\n",
      " [60.16643583 67.00746227 53.23532662         inf 63.69458376 22.8035085\n",
      "  37.33630941 69.52697318 14.86606875 88.76936408]\n",
      " [ 3.60555128 24.35159132 29.61418579 63.69458376         inf 53.03772242\n",
      "  26.40075756 78.26237921 50.         62.39390996]\n",
      " [50.         64.51356447 54.20332093 22.8035085  53.03772242         inf\n",
      "  30.3644529  84.53401682 13.         94.40338977]\n",
      " [22.84731932 34.17601498 25.45584412 37.33630941 26.40075756 30.3644529\n",
      "          inf 66.75327707 24.18677324 66.46803743]\n",
      " [75.80237463 58.30951895 48.66210024 69.52697318 78.26237921 84.53401682\n",
      "  66.75327707         inf 71.58910532 41.59326869]\n",
      " [46.57252409 56.71860365 44.59820624 14.86606875 50.         13.\n",
      "  24.18677324 71.58910532         inf 83.52843827]\n",
      " [61.74139616 38.07886553 41.01219331 88.76936408 62.39390996 94.40338977\n",
      "  66.46803743 41.59326869 83.52843827         inf]]\n"
     ]
    },
    {
     "data": {
      "image/png": "[encoded data removed]",
      "text/plain": [
       "<Figure size 360x360 with 1 Axes>"
      ]
     },
     "metadata": {
      "needs_background": "light"
     },
     "output_type": "display_data"
    }
   ],
   "source": [
    "# Write a problem generator and visualizer for instances of the TSP problem where cities are represented by random points \n",
    "# in the unit square (6-10 cities are recommended) \n",
    "\n",
    "size = int(input(\"City number(6-10)：\"))\n",
    "scale = int(input(\"Scale：\"))\n",
    "city_pos = []\n",
    "\n",
    "i = 0\n",
    "while i < size:\n",
    "    x = np.floor(np.random.rand() * scale)\n",
    "    y = np.floor(np.random.rand() * scale)\n",
    "    if (x, y) not in city_pos:\n",
    "        city_pos.append((x, y))\n",
    "        i = i + 1\n",
    "city_pos = tuple(city_pos)\n",
    "\n",
    "# position\n",
    "#city_pos = ((45, 0), (67, 17), (22, 56), (42, 9), (48, 13), (4, 66), (58, 9), (5, 0), (81, 41), (97, 21))\n",
    "#((24.0, 99.0), (47.0, 90.0), (54.0, 70.0), (39.0, 87.0), (45.0, 5.0), (93.0, 78.0), (96.0, 40.0), (58.0, 86.0), (40.0, 27.0), (65.0, 57.0))\n",
    "\n",
    "print(city_pos)\n",
    "\n",
    "# Calculate distance\n",
    "def get_dist(pos_1, pos_2):\n",
    "    if pos_1[0]==pos_2[0] and pos_1[1]==pos_2[1]:\n",
    "        return np.inf\n",
    "    else:\n",
    "        return np.sqrt((pos_1[0] - pos_2[0])**2 + (pos_1[1] - pos_2[1])**2)\n",
    "\n",
    "# Distances\n",
    "dist = [[get_dist(pos_1, pos_2) for pos_2 in city_pos] for pos_1 in city_pos]\n",
    "dist_array = np.array(dist)\n",
    "print(dist_array)\n",
    "\n",
    "# graph\n",
    "plt.figure(figsize=(5,5))\n",
    "plt.xlim([-5,100])\n",
    "plt.ylim([-5,100])\n",
    "for i,(x,y) in enumerate(city_pos):\n",
    "    plt.scatter(x, y, c='b', marker='s')\n",
    "    plt.annotate(i, (x+1, y-1))\n",
    "\n",
    "plt.grid()\n",
    "plt.show()"
   ]
  },
  {
   "cell_type": "markdown",
   "id": "d70cf8d0",
   "metadata": {},
   "source": [
    "#2"
   ]
  },
  {
   "cell_type": "code",
   "execution_count": 9,
   "id": "130000d4",
   "metadata": {},
   "outputs": [
    {
     "name": "stdout",
     "output_type": "stream",
     "text": [
      "[8, 3, 7, 9, 2, 1, 4, 0, 6, 5, 8]\n",
      "min dist:  276.3989649553172\n",
      "DFS time: 13.536s\n"
     ]
    },
    {
     "data": {
      "image/png": "[encoded data removed]",
      "text/plain": [
       "<Figure size 360x360 with 1 Axes>"
      ]
     },
     "metadata": {
      "needs_background": "light"
     },
     "output_type": "display_data"
    }
   ],
   "source": [
    "# 2 Solve the path problem of visiting all cities using the two main uninformed search strategies (BFS and DFS) \n",
    "# and display your solution as a path between the cities\n",
    "\n",
    "#DFS\n",
    "\n",
    "def show_path(path):\n",
    "    plt.figure(figsize=(5,5))\n",
    "    plt.xlim([-5,100])\n",
    "    plt.ylim([-5,100])\n",
    "    x = [city_pos[v_i][0] for v_i in path]\n",
    "    y = [city_pos[v_i][1] for v_i in path]\n",
    "    plt.scatter(x, y, marker='s')\n",
    "    plt.plot(x, y)\n",
    "    for i in range(len(path)):\n",
    "        plt.annotate(path[i], (x[i] + 1, y[i] - 1))\n",
    "    plt.grid()\n",
    "    plt.show()\n",
    "    return\n",
    "\n",
    "\n",
    "def dist_calculate_DFS(layer,first):\n",
    "    #print(Curpath[:layer], Curpath[1:layer+1])\n",
    "    dist_sum = sum([dist_array[city1][city2] for city1,city2 in zip(curpath[:layer], curpath[1:layer+1])])\n",
    "\n",
    "    dist_sum += dist_array[curpath[-1]][first]\n",
    "\n",
    "    return dist_sum\n",
    "\n",
    "\n",
    "def DFS(layer):\n",
    "    global cur_min_dist, curpath\n",
    "    global best_min_dist, bestpath\n",
    "    if(layer == city_num):\n",
    "        dist_sum = dist_calculate_DFS(layer,curpath[0])\n",
    "        if(dist_sum <= cur_min_dist):\n",
    "            cur_min_dist, best_min_dist = dist_sum, dist_sum\n",
    "            bestpath = curpath[:]\n",
    "            bestpath.append(curpath[0])\n",
    "    else:\n",
    "        for i in range(layer,city_num):\n",
    "            curpath[i],curpath[layer] = curpath[layer],curpath[i]\n",
    "            DFS(layer+1)\n",
    "            curpath[i],curpath[layer] = curpath[layer],curpath[i]\n",
    "\n",
    "city_num = len(city_pos)\n",
    "curpath, bestpath = list(range(city_num)), []\n",
    "cur_min_dist, best_min_dist = np.inf, 0\n",
    "\n",
    "start_dfs = time.time()\n",
    "DFS(0)\n",
    "end_dfs = time.time()\n",
    "time_dfs = end_dfs-start_dfs\n",
    "\n",
    "print(bestpath)\n",
    "print('min dist: ',best_min_dist)\n",
    "print('DFS time: %.3fs'%(end_dfs-start_dfs))\n",
    "show_path(bestpath)"
   ]
  },
  {
   "cell_type": "code",
   "execution_count": 10,
   "id": "c3ff28d0",
   "metadata": {},
   "outputs": [
    {
     "name": "stdout",
     "output_type": "stream",
     "text": [
      "[6, 5, 8, 3, 7, 9, 2, 1, 4, 0, 6]\n",
      "min dist:  276.3989649553172\n",
      "BFS time: 32.847s\n"
     ]
    },
    {
     "data": {
      "image/png": "[encoded data removed]",
      "text/plain": [
       "<Figure size 360x360 with 1 Axes>"
      ]
     },
     "metadata": {
      "needs_background": "light"
     },
     "output_type": "display_data"
    }
   ],
   "source": [
    "#BFS\n",
    "from collections import deque\n",
    "\n",
    "def dist_calculate_BFS(curpath):\n",
    "    #print(Curpath[:layer], Curpath[1:layer+1])\n",
    "    dist_sum = sum([dist_array[city1][city2] for city1,city2 in zip(curpath[:city_num], curpath[1:city_num+1])])\n",
    "\n",
    "    dist_sum += dist_array[curpath[-1]][curpath[0]]\n",
    "\n",
    "    return dist_sum\n",
    "\n",
    "city_num = len(city_pos)\n",
    "curpath, bestpath = tuple(range(city_num)), []\n",
    "cur_min_dist, best_min_dist = np.inf, 0\n",
    "\n",
    "start_bfs = time.time()\n",
    "\n",
    "pathset = set()\n",
    "firstpath = tuple(range(city_num))\n",
    "dq = deque()\n",
    "dq.append(firstpath)\n",
    "\n",
    "while dq:\n",
    "    curpath = dq.pop()\n",
    "    if (curpath not in pathset):\n",
    "        \n",
    "        pathset.add(curpath)\n",
    "        curpath = list(curpath)\n",
    "        dist_sum = dist_calculate_BFS(curpath)\n",
    "        if(dist_sum <= cur_min_dist):\n",
    "            cur_min_dist, best_min_dist = dist_sum, dist_sum\n",
    "            bestpath = curpath[:]\n",
    "            bestpath.append(curpath[0])\n",
    "            \n",
    "        for i in range(1,city_num):\n",
    "            curpath[0],curpath[i] = curpath[i],curpath[0]\n",
    "            dq.append(tuple(curpath))\n",
    "            curpath[0],curpath[i] = curpath[i],curpath[0]\n",
    "\n",
    "end_bfs = time.time()\n",
    "time_bfs = end_bfs-start_bfs\n",
    "print(bestpath)\n",
    "print('min dist: ',best_min_dist)\n",
    "print('BFS time: %.3fs'%(end_bfs-start_bfs))\n",
    "show_path(bestpath)"
   ]
  },
  {
   "cell_type": "markdown",
   "id": "70698e60",
   "metadata": {},
   "source": [
    "#3"
   ]
  },
  {
   "cell_type": "markdown",
   "id": "b7cc0a26",
   "metadata": {},
   "source": [
    "#Show and describe how the MST heuristic can be derived from a relaxed version of the TSP\n",
    "\n",
    "Processing flow of solving TSP problem based on heuristic minimum spanning tree algorithm(MST)\n",
    "\n",
    "First select any vertex as the root of the tree and find the minimum spanning tree (any MST algorithm, here is implemented by Prim algorithm)\n",
    "Then construct a closed loop from the minimum spanning tree (N cities do not repeat the sequence\n",
    "Finally, determine the one with the smallest distance in the closed loop constructed from the minimum spanning tree generated from different vertices, that is, the shortest city sequence"
   ]
  },
  {
   "cell_type": "markdown",
   "id": "f7267247",
   "metadata": {},
   "source": [
    "#4"
   ]
  },
  {
   "cell_type": "code",
   "execution_count": 12,
   "id": "986773b5",
   "metadata": {},
   "outputs": [
    {
     "name": "stdout",
     "output_type": "stream",
     "text": [
      "DFS time: 13.536s\n",
      "BFS time: 32.847s\n"
     ]
    }
   ],
   "source": [
    "# 4 Compare the average time (total number of nodes generated) and space (largest size of frontier) complexity \n",
    "# for BFS and DFS when running your search algorithm\n",
    "\n",
    "print('DFS time: %.3fs'%(end_dfs-start_dfs))\n",
    "print('BFS time: %.3fs'%(end_bfs-start_bfs))"
   ]
  },
  {
   "cell_type": "markdown",
   "id": "3f736ec2",
   "metadata": {},
   "source": [
    "#5"
   ]
  },
  {
   "cell_type": "code",
   "execution_count": 14,
   "id": "59ba62ef",
   "metadata": {},
   "outputs": [
    {
     "name": "stdout",
     "output_type": "stream",
     "text": [
      "dist:  365.9805921811367\n",
      "[0, 4, 6, 1, 2, 8, 5, 3, 9, 7, 0]\n",
      "[[ 0.          4.          3.60555128]\n",
      " [ 0.          6.         22.84731932]\n",
      " [ 0.          1.         23.70653918]\n",
      " [ 1.          2.         15.23154621]\n",
      " [ 6.          8.         24.18677324]\n",
      " [ 8.          5.         13.        ]\n",
      " [ 8.          3.         14.86606875]\n",
      " [ 1.          9.         38.07886553]\n",
      " [ 9.          7.         41.59326869]]\n"
     ]
    },
    {
     "data": {
      "image/png": "[encoded data removed]",
      "text/plain": [
       "<Figure size 360x360 with 1 Axes>"
      ]
     },
     "metadata": {
      "needs_background": "light"
     },
     "output_type": "display_data"
    },
    {
     "data": {
      "image/png": "[encoded data removed]",
      "text/plain": [
       "<Figure size 360x360 with 1 Axes>"
      ]
     },
     "metadata": {
      "needs_background": "light"
     },
     "output_type": "display_data"
    }
   ],
   "source": [
    "# 5 Find an efficient algorithm in the literature for constructing the MST, \n",
    "# and use it with A* graph search to solve instances of the TSP\n",
    "def Prim(root):\n",
    "    \n",
    "    prim_list = []\n",
    "\n",
    "    path = [root]\n",
    "    selected_city = [root]\n",
    "    candidate_city = [i for i in range(0, city_num)]\n",
    "    candidate_city.remove(selected_city[0])\n",
    "\n",
    "    while len(candidate_city) > 0 :\n",
    "        min_dist = np.inf\n",
    "        for i in selected_city:\n",
    "            for j in candidate_city:\n",
    "                if dist_array[i][j] < min_dist:\n",
    "                    min_dist = dist_array[i][j]\n",
    "                    cur_city = i\n",
    "                    next_select_city = j\n",
    "        prim_list.append([cur_city, next_select_city, min_dist])\n",
    "        selected_city.append(next_select_city)\n",
    "        candidate_city.remove(next_select_city)\n",
    "        path.append(next_select_city)\n",
    "    \n",
    "    return path, prim_list\n",
    "\n",
    "root = 0\n",
    "path, prim_list = Prim(root)\n",
    "\n",
    "print('dist: ',dist_calculate_BFS(path))\n",
    "path.append(path[0])\n",
    "print(path)\n",
    "print(np.array(prim_list))\n",
    "\n",
    "plt.figure(figsize=(5,5))\n",
    "plt.xlim([-5,100])\n",
    "plt.ylim([-5,100])\n",
    "for i,(x,y) in enumerate(city_pos):\n",
    "    plt.scatter(x, y, c='b', marker='s')\n",
    "    plt.annotate(i, (x+1, y-1))\n",
    "\n",
    "plt.grid()\n",
    "for t_list in prim_list:\n",
    "    plt.plot([city_pos[t_list[0]][0], city_pos[t_list[1]][0]], [city_pos[t_list[0]][1], city_pos[t_list[1]][1]])\n",
    "\n",
    "plt.show()\n",
    "\n",
    "show_path(path)"
   ]
  },
  {
   "cell_type": "code",
   "execution_count": 15,
   "id": "0dcea132",
   "metadata": {},
   "outputs": [],
   "source": [
    "def get_adjacent(prim_list,root):\n",
    "    adj_dict = {i:set() for i in range(city_num)}\n",
    "    \n",
    "    for i in range(prim_list.shape[0]):\n",
    "        city_x,city_y = prim_list[i][0], prim_list[i][1]\n",
    "        adj_dict[city_x].add(int(city_y))\n",
    "        adj_dict[city_y].add(int(city_x))\n",
    "        adj_dict[city_x].add(root)\n",
    "        adj_dict[city_y].add(root)\n",
    "    \n",
    "    city = [i for i in range(0, city_num)]\n",
    "    city.remove(root)\n",
    "    adj_dict[root] = set(city)\n",
    "    \n",
    "    return adj_dict"
   ]
  },
  {
   "cell_type": "code",
   "execution_count": 16,
   "id": "4d2ed33a",
   "metadata": {},
   "outputs": [],
   "source": [
    "import heapq\n",
    "import itertools\n",
    "\n",
    "class Node:\n",
    "    def __init__(self, name, parent=None, cost=0, order=0):\n",
    "        self.name = name\n",
    "        self.cost = cost\n",
    "        self.order = order\n",
    "        self.parent = parent\n",
    "    \n",
    "    def __lt__(self, nn):\n",
    "        if self.cost == nn.cost:\n",
    "            return self.order < nn.order\n",
    "        return self.cost < nn.cost\n",
    "\n",
    "def a_star(startpt, endpt, adjacent):\n",
    "    \n",
    "    dist_root = dist_array[startpt][endpt]\n",
    "    #s = Node(startpt,cost=dist_root)\n",
    "    s = Node(startpt)\n",
    "        \n",
    "    queue = [(dist_root,0,s)]\n",
    "    heapq.heapify(queue)\n",
    "    visited = set()\n",
    "    #visited.add(startpt)\n",
    "    counter = itertools.count()\n",
    "        \n",
    "    while queue:\n",
    "        f,o,node = heapq.heappop(queue)\n",
    "\n",
    "        if node.name==endpt:\n",
    "            path = []\n",
    "            tmp_node = node\n",
    "            while tmp_node is not None:\n",
    "                path.append(tmp_node.name)\n",
    "                tmp_node = tmp_node.parent\n",
    "            if len(path)==(city_num+1):\n",
    "                return path[::-1]\n",
    "            \n",
    "        for v in adjacent[node.name]:\n",
    "            if (v not in visited):\n",
    "                cost = node.cost + dist_array[node.name][v]\n",
    "                f_value = node.cost + dist_array[v][endpt]\n",
    "                #print(f_value)\n",
    "                order = next(counter)\n",
    "                nbr_state = Node(v, node, cost, order)\n",
    "                heapq.heappush(queue, (f_value, order, nbr_state))\n",
    "                visited.add(v)\n",
    "        \n",
    "    return []"
   ]
  },
  {
   "cell_type": "code",
   "execution_count": 19,
   "id": "3f017e21",
   "metadata": {},
   "outputs": [
    {
     "name": "stdout",
     "output_type": "stream",
     "text": [
      "[3, 8, 5, 6, 0, 4, 1, 2, 9, 7, 3]\n",
      "min dist:  276.39896495531724\n",
      "MST time: 0.001s\n"
     ]
    },
    {
     "data": {
      "image/png": "[encoded data removed]",
      "text/plain": [
       "<Figure size 360x360 with 1 Axes>"
      ]
     },
     "metadata": {
      "needs_background": "light"
     },
     "output_type": "display_data"
    }
   ],
   "source": [
    "bestpath = []\n",
    "best_min_dist = np.inf\n",
    "\n",
    "start_mst = time.time()\n",
    "\n",
    "for root in range(city_num):\n",
    "    path, prim_list = Prim(root)\n",
    "    dist_sum = dist_calculate_BFS(path)\n",
    "    \n",
    "    if(dist_sum <= best_min_dist):\n",
    "        best_min_dist = dist_sum\n",
    "        bestpath = path[:]\n",
    "        bestpath.append(path[0])\n",
    "    \n",
    "    adjacent = get_adjacent(np.array(prim_list),root)\n",
    "    path = a_star(root, root, adjacent)\n",
    "    if path:\n",
    "        dist_sum = dist_calculate_BFS(path)\n",
    "        \n",
    "        if(dist_sum <= best_min_dist):\n",
    "            best_min_dist = dist_sum\n",
    "            bestpath = path[:]\n",
    "            bestpath.append(path[0])\n",
    "\n",
    "end_mst = time.time()\n",
    "print(bestpath)\n",
    "print('min dist: ',best_min_dist)\n",
    "print('MST time: %.3fs'%(end_mst-start_mst))\n",
    "show_path(bestpath)"
   ]
  },
  {
   "cell_type": "markdown",
   "id": "530869c8",
   "metadata": {},
   "source": [
    "DONE"
   ]
  },
  {
   "cell_type": "code",
   "execution_count": null,
   "id": "9659260b",
   "metadata": {},
   "outputs": [],
   "source": []
  }
 ],
 "metadata": {
  "kernelspec": {
   "display_name": "Python 3 (ipykernel)",
   "language": "python",
   "name": "python3"
  },
  "language_info": {
   "codemirror_mode": {
    "name": "ipython",
    "version": 3
   },
   "file_extension": ".py",
   "mimetype": "text/x-python",
   "name": "python",
   "nbconvert_exporter": "python",
   "pygments_lexer": "ipython3",
   "version": "3.9.7"
  }
 },
 "nbformat": 4,
 "nbformat_minor": 5
}
