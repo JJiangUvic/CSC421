{
 "cells": [
  {
   "cell_type": "markdown",
   "metadata": {
    "tags": []
   },
   "source": [
    "# Mini-Project 7 \n",
    "## HMM robot \n",
    " ## George Tzanetakeis\n",
    "## CSC421\n",
    "## Jiazhuo Jiang\n",
    "## V00892165\n",
    " \n",
    "\n",
    "This project is based on material from Chapter 15 Probabilistic Reasoning over time that we have covered.\n",
    "The idea is to use filtering to track a roboc in an environment with no landmarks. The environment is represented as a n by m rectangular grid. The robot's location is hidden; the only evidence available to the observer is a noisy location sensor that gives an approximation to the robot's location. If the robot is at location (x,y) then: \n",
    "\n",
    "1. With probability 0.1 the sensor gives the correct location\n",
    "2. With probability 0.05 it reports one of the 8 locations immediately surrounding (x,y) \n",
    "3. With probability 0.025 it reports one of the 16 locations surrounding those 8\n",
    "4. With the remaining probability of 0.1 it report 'no reading' \n",
    "\n",
    "The robot's movement policy is to pick a direction and follow it with probability 0.7 on each step; the robot switches to a randomly selected new heading with probability .3 (or with probability 1 if it encounters a wall). \n",
    "\n",
    "\n",
    "1. Implement the movement poliy of the robot and show how it works by drawing a path in a rectangular grid for different stochastic simulations of the movement **(basic - 2 points)** \n",
    "2. Describe using text and markdown how this problem can be formulated as an HMM **(basic - 2 points)**. \n",
    "3. Use the HMM and sampling to generate both the true movement of the robot as well as locations provided by the observation sensor. Draw the true path as well as the sensor path with different colors on a rectangular grid **(expected - 2 points)** \n",
    "4. Use just the generated observed samples (not the hidden states) to estimate the parameters of the HMM i.e the transition and observations matrices **(expected - 2 points)** \n",
    "5. Given a different sequences of observed samples (the noisy sensor path) estimate the true path (the locations/hidden states). Compare the true path, noisy path, most likely path estimated using the original specified model as well as the one estimated from data. Show the resulting paths with different colors on a rectangular grid **(advanced - 2 points) ** \n",
    "\n",
    "\n",
    "\n"
   ]
  },
  {
   "cell_type": "code",
   "execution_count": 2,
   "metadata": {},
   "outputs": [],
   "source": [
    "import numpy as np\n",
    "import random\n",
    "import matplotlib.pyplot as plt\n",
    "import itertools"
   ]
  },
  {
   "cell_type": "code",
   "execution_count": 3,
   "metadata": {},
   "outputs": [],
   "source": [
    "M, N = 100, 100"
   ]
  },
  {
   "cell_type": "markdown",
   "metadata": {},
   "source": [
    "#1"
   ]
  },
  {
   "cell_type": "code",
   "execution_count": 5,
   "metadata": {},
   "outputs": [],
   "source": [
    "def robot_next(x, y, dire):\n",
    "    # space\n",
    "    states = []\n",
    "    for d in [(1, 0), (-1, 0), (0, 1), (0, -1)]:\n",
    "        if d == dire:\n",
    "            continue\n",
    "        if (0 <= x + d[0] < M) and (0 <= y + d[1] < N):\n",
    "            states.append(d)\n",
    "    if (0 <= x + dire[0] < M) and (0 <= y + dire[1] < N):\n",
    "        if np.random.rand() < 0.7:\n",
    "            return (x + dire[0], y + dire[1]), dire\n",
    "    \n",
    "    dire = random.choice(states)\n",
    "    return (x + dire[0], y + dire[1]), dire"
   ]
  },
  {
   "cell_type": "code",
   "execution_count": 6,
   "metadata": {},
   "outputs": [
    {
     "data": {
      "image/png": "[encoded data removed]",
      "text/plain": [
       "<Figure size 432x288 with 1 Axes>"
      ]
     },
     "metadata": {
      "needs_background": "light"
     },
     "output_type": "display_data"
    }
   ],
   "source": [
    "movement = []\n",
    "# init\n",
    "x, y = np.random.randint(0, 99, 2)\n",
    "dire = random.choice([(1, 0), (-1, 0), (0, 1), (0, -1)])\n",
    "movement.append((x, y))\n",
    "for _ in range(20):\n",
    "    (x, y), dire = robot_next(x, y, dire)\n",
    "    movement.append((x, y))\n",
    "\n",
    "movement = np.array(movement)\n",
    "for i in range(len(movement) - 1):\n",
    "    plt.plot(movement[i:i+2, 0], movement[i:i+2, 1])"
   ]
  },
  {
   "cell_type": "code",
   "execution_count": 7,
   "metadata": {},
   "outputs": [
    {
     "data": {
      "text/plain": [
       "array([[95, 18],\n",
       "       [96, 18],\n",
       "       [96, 17],\n",
       "       [96, 16],\n",
       "       [96, 15],\n",
       "       [96, 14],\n",
       "       [96, 13],\n",
       "       [96, 14],\n",
       "       [96, 15],\n",
       "       [96, 16],\n",
       "       [95, 16],\n",
       "       [94, 16],\n",
       "       [94, 17],\n",
       "       [95, 17],\n",
       "       [95, 18],\n",
       "       [95, 19],\n",
       "       [95, 20],\n",
       "       [95, 21],\n",
       "       [95, 22],\n",
       "       [95, 23],\n",
       "       [95, 24]])"
      ]
     },
     "execution_count": 7,
     "metadata": {},
     "output_type": "execute_result"
    }
   ],
   "source": [
    "movement"
   ]
  },
  {
   "cell_type": "markdown",
   "metadata": {},
   "source": [
    "#2"
   ]
  },
  {
   "cell_type": "markdown",
   "metadata": {},
   "source": [
    "The state transition matrix of the machine is (where $d1, d2, d3, d4$are four different directions): \n",
    "\n",
    "| | $d1$  | $d2$ | $d3$ | $d4$ |\n",
    "| - | - | - | - | - |\n",
    "$d1$ | 0.7 | 0.1 | 0.1 | 0.1 |\n",
    "$d2$ | 0.1 | 0.7 | 0.1 | 0.1 |\n",
    "$d3$ | 0.1 | 0.1 | 0.7 | 0.1 |\n",
    "$d4$ | 0.1 | 0.1 | 0.1 | 0.7 |\n",
    "\n",
    "The observation matrix of the observer is:\n",
    "\n",
    "| | x,y  | x +- 1,y +- 1 | x +- 2, y +- 2 |\n",
    "| - | - | - | - |\n",
    "$x,y$ | 0.1 | 0.05 | 0.0025 |\n"
   ]
  },
  {
   "cell_type": "markdown",
   "metadata": {},
   "source": [
    "#3"
   ]
  },
  {
   "cell_type": "code",
   "execution_count": 8,
   "metadata": {},
   "outputs": [],
   "source": [
    "def sample_sensor(x, y):\n",
    "    r = np.random.rand()\n",
    "    if r <= 0.1:\n",
    "        return x, y\n",
    "    elif r <= 0.2:\n",
    "        return \"no reading\"\n",
    "    elif r <= 0.6:     \n",
    "        xs = [x+dx for dx in [-1, 0, 1] if (0 <= x + dx < M)]\n",
    "        ys = [y+dy for dy in [-1, 0, 1] if (0 <= y + dy < M)]\n",
    "        states = [pos for pos in itertools.product(xs, ys) if pos != (x, y)]\n",
    "        return random.choice(states)\n",
    "    else:\n",
    "        xs = [x+dx for dx in [-2, 0, 2] if (0 <= x + dx < M)]\n",
    "        ys = [y+dy for dy in [-2, 0, 2] if (0 <= y + dy < M)]\n",
    "        states = [pos for pos in itertools.product(xs, ys) if pos != (x, y)]\n",
    "        return random.choice(states)"
   ]
  },
  {
   "cell_type": "code",
   "execution_count": 9,
   "metadata": {},
   "outputs": [],
   "source": [
    "movement = []\n",
    "sensor = []\n",
    "# init\n",
    "x, y = np.random.randint(0, 99, 2)\n",
    "dire = random.choice([(1, 0), (-1, 0), (0, 1), (0, -1)])\n",
    "movement.append((x, y))\n",
    "sensor.append(sample_sensor(x, y))\n",
    "for _ in range(20):\n",
    "    (x, y), dire = robot_next(x, y, dire)\n",
    "    movement.append((x, y))\n",
    "    sensor.append(sample_sensor(x, y))"
   ]
  },
  {
   "cell_type": "code",
   "execution_count": 10,
   "metadata": {},
   "outputs": [
    {
     "name": "stdout",
     "output_type": "stream",
     "text": [
      "The trajectory of the robot is: [(89, 29), (89, 28), (88, 28), (87, 28), (87, 27), (87, 26), (87, 25), (87, 26), (88, 26), (89, 26), (90, 26), (91, 26), (91, 27), (90, 27), (89, 27), (88, 27), (88, 26), (89, 26), (90, 26), (90, 27), (90, 28)]\n",
      "The result observed by the observer: [(90, 28), (87, 26), (88, 27), (88, 29), 'no reading', (87, 27), (85, 25), (89, 24), (90, 24), (90, 25), (91, 25), (91, 26), (91, 27), (92, 27), (91, 29), (88, 25), (88, 27), (88, 25), (92, 24), (89, 27), 'no reading']\n"
     ]
    }
   ],
   "source": [
    "print(\"The trajectory of the robot is:\", movement)\n",
    "print(\"The result observed by the observer:\", sensor)"
   ]
  },
  {
   "cell_type": "markdown",
   "metadata": {},
   "source": [
    "#4"
   ]
  },
  {
   "cell_type": "code",
   "execution_count": 11,
   "metadata": {},
   "outputs": [
    {
     "name": "stdout",
     "output_type": "stream",
     "text": [
      "P(no reading) 0.114\n"
     ]
    }
   ],
   "source": [
    "# samples\n",
    "n_sample = 1000\n",
    "observed = []\n",
    "\n",
    "# init\n",
    "x, y = np.random.randint(0, 99, 2)\n",
    "dire = random.choice([(1, 0), (-1, 0), (0, 1), (0, -1)])\n",
    "observed.append(sample_sensor(x, y))\n",
    "for _ in range(n_sample-1):\n",
    "    (x, y), dire = robot_next(x, y, dire)\n",
    "    observed.append(sample_sensor(x, y))\n",
    "    \n",
    "# no reading pro\n",
    "p1 = observed.count(\"no reading\") / len(observed)\n",
    "\n",
    "print(\"P(no reading)\", p1)"
   ]
  },
  {
   "cell_type": "markdown",
   "metadata": {},
   "source": [
    "#5"
   ]
  },
  {
   "cell_type": "code",
   "execution_count": 12,
   "metadata": {},
   "outputs": [],
   "source": [
    "n_sample = 1000\n",
    "observed = []\n",
    "movement = []\n",
    "\n",
    "# init\n",
    "x, y = np.random.randint(0, 99, 2)\n",
    "dire = random.choice([(1, 0), (-1, 0), (0, 1), (0, -1)])\n",
    "movement.append((x, y))\n",
    "observed.append(sample_sensor(x, y))\n",
    "for _ in range(n_sample-1):\n",
    "    (x, y), dire = robot_next(x, y, dire)\n",
    "    movement.append((x, y))\n",
    "    observed.append(sample_sensor(x, y))"
   ]
  },
  {
   "cell_type": "code",
   "execution_count": 13,
   "metadata": {},
   "outputs": [
    {
     "data": {
      "image/png": "[encoded data removed]",
      "text/plain": [
       "<Figure size 432x288 with 1 Axes>"
      ]
     },
     "metadata": {
      "needs_background": "light"
     },
     "output_type": "display_data"
    }
   ],
   "source": [
    "movement = np.array(movement)\n",
    "for i in range(len(movement) - 1):\n",
    "    plt.plot(movement[i:i+2, 0], movement[i:i+2, 1])"
   ]
  },
  {
   "cell_type": "code",
   "execution_count": null,
   "metadata": {},
   "outputs": [],
   "source": []
  }
 ],
 "metadata": {
  "kernelspec": {
   "display_name": "Python 3 (ipykernel)",
   "language": "python",
   "name": "python3"
  },
  "language_info": {
   "codemirror_mode": {
    "name": "ipython",
    "version": 3
   },
   "file_extension": ".py",
   "mimetype": "text/x-python",
   "name": "python",
   "nbconvert_exporter": "python",
   "pygments_lexer": "ipython3",
   "version": "3.9.7"
  }
 },
 "nbformat": 4,
 "nbformat_minor": 4
}
